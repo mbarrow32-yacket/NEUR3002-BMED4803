{
 "cells": [
  {
   "cell_type": "markdown",
   "id": "34494059-8440-45ac-aee4-6951430bdb9a",
   "metadata": {},
   "source": [
    "# Topic: Lateral Inhibition in the Visual System\n",
    "\n",
    "While there are many types of circuits ([circuits](https://nba.uth.tmc.edu/neuroscience/m/s1/introduction.html)) that affect output, one type found in the visual system is **lateral inhibition**. Lateral inhibition is when one node ([node](https://www.frontiersin.org/journals/computational-neuroscience/articles/10.3389/fncom.2013.00169/full)) excites another directly in front of it, but additional modulation diverges, or splits the signal along other pathways, to inhibit neighboring nodes. \n",
    "\n",
    "![Lateral Inhibition and Other Circuits](Microcircuits_Image.jpg)\n",
    "\n",
    "#### In the visual system, lateral inhibition is shown with the photoreceptors, bipolar cells, and retinal ganglion cells.\n",
    "These parts are connected like this:\n",
    "\n",
    "![Photoreceptors, Bipolar Cells, and Retinal Ganglion Cells](Visual_System.png)\n",
    "\n",
    "When photoreceptors in the retina transform a light stimulus into an electrical signal that the brain can interpret through a process called **transduction**, a **direct** or **indirect pathway** connects the photoreceptors to the bipolar cells, which can change the amplification of the electrical activity. For example, photoreceptors hyperpolarize in the presence of light as a compound called cGMP is broken down, closing voltage-gated sodium channels and reducing the influx of cations ([Light and Photoreceptors](https://www.ncbi.nlm.nih.gov/books/NBK10806/)). When this occurs, one of two things can happen:\n",
    "1. The signals travel through the direct pathway which uses **feedforward inhibition**. There, a type of bipolar cells called **ON-CENTER bipolar cells** that respond opposite to the photoreceptors. This is because the inhibition is directly passed onto the nodes. Therefore, when the photoreceptors hyperpolarize, these bipolar cells depolarize.\n",
    "2. The signals travel through the indirect pathway which uses **lateral inhibition**. There, a different type of bipolar cells called **OFF-CENTER bipolar cells** respond the same as the photoreceptors. This is because the photoreceptors' activity is directly passed onto the bipolar cells' nodes, while the inhibition is spread to other nodes. Therefore, when the photoreceptors hyperpolarize, these bipolar cells also hyperpolarize.\n",
    "\n",
    "([If you're interested in learning more about these pathways, check out this source!](https://www.ncbi.nlm.nih.gov/books/NBK11521/))\n",
    "\n",
    "Because both types of bipolar cells connect to retinal ganglion cells, one can consider them the **interneurons** that modulate the activity between the retinal ganglion cells and the photoreceptors. Similarly, bipolar cells act like the **hidden layers** in an artificial neural network ([ANN](https://www.geeksforgeeks.org/artificial-neural-networks-and-its-applications/)), providing additional information to the input before an output is created. When the retinal ganglion cells receive this activity, they respond the same way as the bipolar cells they are connected to, eventually passing that information to the **LGN** for pre-processing, **V1** for line contrast, and **IT** for forming the entire, holistic image. \n",
    "\n",
    "![Visual System](Vision.jpg)"
   ]
  },
  {
   "cell_type": "code",
   "execution_count": null,
   "id": "ccac39ac-7dc5-469c-945a-b7c93025ad25",
   "metadata": {},
   "outputs": [],
   "source": []
  }
 ],
 "metadata": {
  "kernelspec": {
   "display_name": "Python 3 (ipykernel)",
   "language": "python",
   "name": "python3"
  },
  "language_info": {
   "codemirror_mode": {
    "name": "ipython",
    "version": 3
   },
   "file_extension": ".py",
   "mimetype": "text/x-python",
   "name": "python",
   "nbconvert_exporter": "python",
   "pygments_lexer": "ipython3",
   "version": "3.12.1"
  }
 },
 "nbformat": 4,
 "nbformat_minor": 5
}
